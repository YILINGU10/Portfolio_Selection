{
 "cells": [
  {
   "cell_type": "code",
   "execution_count": 1,
   "metadata": {},
   "outputs": [
    {
     "name": "stderr",
     "output_type": "stream",
     "text": [
      "Using TensorFlow backend.\n"
     ]
    },
    {
     "data": {
      "text/html": [
       "        <script type=\"text/javascript\">\n",
       "        window.PlotlyConfig = {MathJaxConfig: 'local'};\n",
       "        if (window.MathJax) {MathJax.Hub.Config({SVG: {font: \"STIX-Web\"}});}\n",
       "        if (typeof require !== 'undefined') {\n",
       "        require.undef(\"plotly\");\n",
       "        requirejs.config({\n",
       "            paths: {\n",
       "                'plotly': ['https://cdn.plot.ly/plotly-latest.min']\n",
       "            }\n",
       "        });\n",
       "        require(['plotly'], function(Plotly) {\n",
       "            window._Plotly = Plotly;\n",
       "        });\n",
       "        }\n",
       "        </script>\n",
       "        "
      ]
     },
     "metadata": {},
     "output_type": "display_data"
    },
    {
     "data": {
      "text/html": [
       "        <script type=\"text/javascript\">\n",
       "        window.PlotlyConfig = {MathJaxConfig: 'local'};\n",
       "        if (window.MathJax) {MathJax.Hub.Config({SVG: {font: \"STIX-Web\"}});}\n",
       "        if (typeof require !== 'undefined') {\n",
       "        require.undef(\"plotly\");\n",
       "        requirejs.config({\n",
       "            paths: {\n",
       "                'plotly': ['https://cdn.plot.ly/plotly-latest.min']\n",
       "            }\n",
       "        });\n",
       "        require(['plotly'], function(Plotly) {\n",
       "            window._Plotly = Plotly;\n",
       "        });\n",
       "        }\n",
       "        </script>\n",
       "        "
      ]
     },
     "metadata": {},
     "output_type": "display_data"
    }
   ],
   "source": [
    "from pandas_datareader import data as pdr\n",
    "import pandas as pd\n",
    "import numpy as np\n",
    "import cvxpy as cvx\n",
    "from scipy.stats import norm\n",
    "from numpy.linalg import inv\n",
    "import math\n",
    "\n",
    "import keras\n",
    "import seaborn as sns\n",
    "import sklearn\n",
    "import tensorflow as tf\n",
    "\n",
    "# for plotting\n",
    "import plotly\n",
    "from plotly.offline import download_plotlyjs, init_notebook_mode, plot, iplot\n",
    "import cufflinks as cf\n",
    "import matplotlib.pyplot as plt\n",
    "\n",
    "# Initialize plotly offline\n",
    "plotly.offline.init_notebook_mode(connected=True)\n",
    "\n",
    "from benchmarks import *\n",
    "from datafunctions import *"
   ]
  },
  {
   "cell_type": "markdown",
   "metadata": {},
   "source": [
    "### Homework: calculate the development of CRP for bandit & risk-aware portfolio\n",
    "- Change the return to log(return) when optimizing\n",
    "- Play with the weight $\\lambda$: $w_t^* = \\lambda w_t^M+(1-\\lambda)w_t^C$"
   ]
  },
  {
   "cell_type": "code",
   "execution_count": 2,
   "metadata": {},
   "outputs": [],
   "source": [
    "def Balanced_Portfolio(weight,stock_returns,wM,wC):\n",
    "    asset_returns = stock_returns.as_matrix()\n",
    "    T, m = asset_returns.shape\n",
    "    T = T + 1\n",
    "    \n",
    "    w = weight*wM + (1-weight)*wC\n",
    "    wealth_factors = np.ones(T)\n",
    "    for i in range(1,T):\n",
    "        wealth_factors[i] = wealth_factors[i-1]*np.dot(w, asset_returns[i-1,:])\n",
    "        \n",
    "    return w, wealth_factors"
   ]
  },
  {
   "cell_type": "markdown",
   "metadata": {},
   "source": [
    "### Visualization demo\n",
    "After having the output $\\mathtt{wealth\\_factors}$ (cumulative reward) from the algorithms above, we do the visualization as follows."
   ]
  },
  {
   "cell_type": "code",
   "execution_count": 3,
   "metadata": {},
   "outputs": [
    {
     "data": {
      "application/vnd.plotly.v1+json": {
       "config": {
        "linkText": "Export to plot.ly",
        "plotlyServerURL": "https://plot.ly",
        "showLink": false
       },
       "data": [
        {
         "line": {
          "color": "rgba(255, 153, 51, 1.0)",
          "dash": "solid",
          "shape": "linear",
          "width": 1.3
         },
         "mode": "lines",
         "name": "SPY",
         "text": "",
         "type": "scatter",
         "uid": "2081cc20-d5a5-462e-b2eb-f45362215da6",
         "x": [
          "2008-09-02",
          "2008-09-03",
          "2008-09-04",
          "2008-09-05",
          "2008-09-08",
          "2008-09-09",
          "2008-09-10",
          "2008-09-11",
          "2008-09-12",
          "2008-09-15",
          "2008-09-16",
          "2008-09-17",
          "2008-09-18",
          "2008-09-19",
          "2008-09-22",
          "2008-09-23",
          "2008-09-24",
          "2008-09-25",
          "2008-09-26",
          "2008-09-29",
          "2008-09-30",
          "2008-10-01"
         ],
         "y": [
          1,
          0.9991407448683354,
          0.9690603063182822,
          0.9721072392300956,
          0.9921869505742382,
          0.9627314452514203,
          0.9666380821874353,
          0.9806235536308373,
          0.9851551237940874,
          0.9382764531624027,
          0.9539808837616714,
          0.9110870321829015,
          0.9381199392977586,
          0.9753765983941021,
          0.9532943026259916,
          0.9316056107976014,
          0.9345917187706211,
          0.9492083331213563,
          0.9496798199162846,
          0.8752611432335285,
          0.9114883421111775,
          0.9120383851001195
         ]
        },
        {
         "line": {
          "color": "rgba(55, 128, 191, 1.0)",
          "dash": "solid",
          "shape": "linear",
          "width": 1.3
         },
         "mode": "lines",
         "name": "BCRP_reward",
         "text": "",
         "type": "scatter",
         "uid": "192b555f-fa96-4772-bcee-325bb7f882bf",
         "x": [
          "2008-09-02",
          "2008-09-03",
          "2008-09-04",
          "2008-09-05",
          "2008-09-08",
          "2008-09-09",
          "2008-09-10",
          "2008-09-11",
          "2008-09-12",
          "2008-09-15",
          "2008-09-16",
          "2008-09-17",
          "2008-09-18",
          "2008-09-19",
          "2008-09-22",
          "2008-09-23",
          "2008-09-24",
          "2008-09-25",
          "2008-09-26",
          "2008-09-29",
          "2008-09-30",
          "2008-10-01"
         ],
         "y": [
          1,
          1.018466231821211,
          0.9723002057707033,
          1.01564505805985,
          1.0656577909166978,
          1.0123107992198779,
          1.0105152870194405,
          1.068222516601758,
          1.0559120348210955,
          0.94896115876611,
          1.0448833426429414,
          0.917414593802026,
          1.0335981397580414,
          1.2067193827392917,
          1.0464219612936532,
          1.0402664655146054,
          1.038727655159381,
          1.114644860549581,
          1.2372402215116196,
          1.0515516035933368,
          1.1977429036758451,
          1.2728901305059341
         ]
        },
        {
         "line": {
          "color": "rgba(50, 171, 96, 1.0)",
          "dash": "solid",
          "shape": "linear",
          "width": 1.3
         },
         "mode": "lines",
         "name": "UCRP_reward",
         "text": "",
         "type": "scatter",
         "uid": "c11e9706-3691-4c75-aac6-0dd441d7e0ee",
         "x": [
          "2008-09-02",
          "2008-09-03",
          "2008-09-04",
          "2008-09-05",
          "2008-09-08",
          "2008-09-09",
          "2008-09-10",
          "2008-09-11",
          "2008-09-12",
          "2008-09-15",
          "2008-09-16",
          "2008-09-17",
          "2008-09-18",
          "2008-09-19",
          "2008-09-22",
          "2008-09-23",
          "2008-09-24",
          "2008-09-25",
          "2008-09-26",
          "2008-09-29",
          "2008-09-30",
          "2008-10-01"
         ],
         "y": [
          1,
          0.996782474829613,
          0.9647685242393786,
          0.9647460740966027,
          0.9891067842912171,
          0.964436244601613,
          0.9656429633344774,
          0.9802719301950504,
          0.9826132303916701,
          0.9421075259037298,
          0.9505495895968155,
          0.9028176758504319,
          0.9325838552427678,
          0.9746948762650187,
          0.9388761177993007,
          0.9294741432918503,
          0.9316518591337106,
          0.9531842513342199,
          0.967724557769799,
          0.8875140242975917,
          0.9319884963700736,
          0.9276255685890356
         ]
        }
       ],
       "layout": {
        "legend": {
         "bgcolor": "#F5F6F9",
         "font": {
          "color": "#4D5663"
         }
        },
        "paper_bgcolor": "#F5F6F9",
        "plot_bgcolor": "#F5F6F9",
        "title": {
         "font": {
          "color": "#4D5663"
         },
         "text": "Relative Wealth over time"
        },
        "xaxis": {
         "gridcolor": "#E1E5ED",
         "showgrid": true,
         "tickfont": {
          "color": "#4D5663"
         },
         "title": {
          "font": {
           "color": "#4D5663"
          },
          "text": "Dates"
         },
         "zerolinecolor": "#E1E5ED"
        },
        "yaxis": {
         "gridcolor": "#E1E5ED",
         "showgrid": true,
         "tickfont": {
          "color": "#4D5663"
         },
         "title": {
          "font": {
           "color": "#4D5663"
          },
          "text": "Wealth Factor"
         },
         "zerolinecolor": "#E1E5ED"
        }
       }
      },
      "text/html": [
       "<div>\n",
       "        \n",
       "        \n",
       "            <div id=\"49da9fda-8166-44d4-aee9-3d12496e183a\" class=\"plotly-graph-div\" style=\"height:525px; width:100%;\"></div>\n",
       "            <script type=\"text/javascript\">\n",
       "                require([\"plotly\"], function(Plotly) {\n",
       "                    window.PLOTLYENV=window.PLOTLYENV || {};\n",
       "                    window.PLOTLYENV.BASE_URL='https://plot.ly';\n",
       "                    \n",
       "                if (document.getElementById(\"49da9fda-8166-44d4-aee9-3d12496e183a\")) {\n",
       "                    Plotly.newPlot(\n",
       "                        '49da9fda-8166-44d4-aee9-3d12496e183a',\n",
       "                        [{\"line\": {\"color\": \"rgba(255, 153, 51, 1.0)\", \"dash\": \"solid\", \"shape\": \"linear\", \"width\": 1.3}, \"mode\": \"lines\", \"name\": \"SPY\", \"text\": \"\", \"type\": \"scatter\", \"uid\": \"2081cc20-d5a5-462e-b2eb-f45362215da6\", \"x\": [\"2008-09-02\", \"2008-09-03\", \"2008-09-04\", \"2008-09-05\", \"2008-09-08\", \"2008-09-09\", \"2008-09-10\", \"2008-09-11\", \"2008-09-12\", \"2008-09-15\", \"2008-09-16\", \"2008-09-17\", \"2008-09-18\", \"2008-09-19\", \"2008-09-22\", \"2008-09-23\", \"2008-09-24\", \"2008-09-25\", \"2008-09-26\", \"2008-09-29\", \"2008-09-30\", \"2008-10-01\"], \"y\": [1.0, 0.9991407448683354, 0.9690603063182822, 0.9721072392300956, 0.9921869505742382, 0.9627314452514203, 0.9666380821874353, 0.9806235536308373, 0.9851551237940874, 0.9382764531624027, 0.9539808837616714, 0.9110870321829015, 0.9381199392977586, 0.9753765983941021, 0.9532943026259916, 0.9316056107976014, 0.9345917187706211, 0.9492083331213563, 0.9496798199162846, 0.8752611432335285, 0.9114883421111775, 0.9120383851001195]}, {\"line\": {\"color\": \"rgba(55, 128, 191, 1.0)\", \"dash\": \"solid\", \"shape\": \"linear\", \"width\": 1.3}, \"mode\": \"lines\", \"name\": \"BCRP_reward\", \"text\": \"\", \"type\": \"scatter\", \"uid\": \"192b555f-fa96-4772-bcee-325bb7f882bf\", \"x\": [\"2008-09-02\", \"2008-09-03\", \"2008-09-04\", \"2008-09-05\", \"2008-09-08\", \"2008-09-09\", \"2008-09-10\", \"2008-09-11\", \"2008-09-12\", \"2008-09-15\", \"2008-09-16\", \"2008-09-17\", \"2008-09-18\", \"2008-09-19\", \"2008-09-22\", \"2008-09-23\", \"2008-09-24\", \"2008-09-25\", \"2008-09-26\", \"2008-09-29\", \"2008-09-30\", \"2008-10-01\"], \"y\": [1.0, 1.018466231821211, 0.9723002057707033, 1.01564505805985, 1.0656577909166978, 1.0123107992198779, 1.0105152870194405, 1.068222516601758, 1.0559120348210955, 0.94896115876611, 1.0448833426429414, 0.917414593802026, 1.0335981397580414, 1.2067193827392917, 1.0464219612936532, 1.0402664655146054, 1.038727655159381, 1.114644860549581, 1.2372402215116196, 1.0515516035933368, 1.1977429036758451, 1.2728901305059341]}, {\"line\": {\"color\": \"rgba(50, 171, 96, 1.0)\", \"dash\": \"solid\", \"shape\": \"linear\", \"width\": 1.3}, \"mode\": \"lines\", \"name\": \"UCRP_reward\", \"text\": \"\", \"type\": \"scatter\", \"uid\": \"c11e9706-3691-4c75-aac6-0dd441d7e0ee\", \"x\": [\"2008-09-02\", \"2008-09-03\", \"2008-09-04\", \"2008-09-05\", \"2008-09-08\", \"2008-09-09\", \"2008-09-10\", \"2008-09-11\", \"2008-09-12\", \"2008-09-15\", \"2008-09-16\", \"2008-09-17\", \"2008-09-18\", \"2008-09-19\", \"2008-09-22\", \"2008-09-23\", \"2008-09-24\", \"2008-09-25\", \"2008-09-26\", \"2008-09-29\", \"2008-09-30\", \"2008-10-01\"], \"y\": [1.0, 0.996782474829613, 0.9647685242393786, 0.9647460740966027, 0.9891067842912171, 0.964436244601613, 0.9656429633344774, 0.9802719301950504, 0.9826132303916701, 0.9421075259037298, 0.9505495895968155, 0.9028176758504319, 0.9325838552427678, 0.9746948762650187, 0.9388761177993007, 0.9294741432918503, 0.9316518591337106, 0.9531842513342199, 0.967724557769799, 0.8875140242975917, 0.9319884963700736, 0.9276255685890356]}],\n",
       "                        {\"legend\": {\"bgcolor\": \"#F5F6F9\", \"font\": {\"color\": \"#4D5663\"}}, \"paper_bgcolor\": \"#F5F6F9\", \"plot_bgcolor\": \"#F5F6F9\", \"title\": {\"font\": {\"color\": \"#4D5663\"}, \"text\": \"Relative Wealth over time\"}, \"xaxis\": {\"gridcolor\": \"#E1E5ED\", \"showgrid\": true, \"tickfont\": {\"color\": \"#4D5663\"}, \"title\": {\"font\": {\"color\": \"#4D5663\"}, \"text\": \"Dates\"}, \"zerolinecolor\": \"#E1E5ED\"}, \"yaxis\": {\"gridcolor\": \"#E1E5ED\", \"showgrid\": true, \"tickfont\": {\"color\": \"#4D5663\"}, \"title\": {\"font\": {\"color\": \"#4D5663\"}, \"text\": \"Wealth Factor\"}, \"zerolinecolor\": \"#E1E5ED\"}},\n",
       "                        {\"showLink\": false, \"linkText\": \"Export to plot.ly\", \"plotlyServerURL\": \"https://plot.ly\", \"responsive\": true}\n",
       "                    ).then(function(){\n",
       "                            \n",
       "var gd = document.getElementById('49da9fda-8166-44d4-aee9-3d12496e183a');\n",
       "var x = new MutationObserver(function (mutations, observer) {{\n",
       "        var display = window.getComputedStyle(gd).display;\n",
       "        if (!display || display === 'none') {{\n",
       "            console.log([gd, 'removed!']);\n",
       "            Plotly.purge(gd);\n",
       "            observer.disconnect();\n",
       "        }}\n",
       "}});\n",
       "\n",
       "// Listen for the removal of the full notebook cells\n",
       "var notebookContainer = gd.closest('#notebook-container');\n",
       "if (notebookContainer) {{\n",
       "    x.observe(notebookContainer, {childList: true});\n",
       "}}\n",
       "\n",
       "// Listen for the clearing of the current output cell\n",
       "var outputEl = gd.closest('.output');\n",
       "if (outputEl) {{\n",
       "    x.observe(outputEl, {childList: true});\n",
       "}}\n",
       "\n",
       "                        })\n",
       "                };\n",
       "                });\n",
       "            </script>\n",
       "        </div>"
      ]
     },
     "metadata": {},
     "output_type": "display_data"
    }
   ],
   "source": [
    "us_stock_prices = pd.read_csv('./00_Data/us_stocks_latest.csv', header=0, index_col = 0)\n",
    "us_stock_prices.index = pd.to_datetime(us_stock_prices.index)\n",
    "\n",
    "#Process Stock Data\n",
    "stock_prices_norm, stock_returns = process_stock_data(us_stock_prices)\n",
    "\n",
    "# initialize with SPY\n",
    "SPY_benchmark = stock_prices_norm.drop(stock_prices_norm.columns[1:], axis = 1)\n",
    "\n",
    "# # Solves the convex optimization problem of the Best constant rebalanced portfolio in hindsight\n",
    "BCRP, SPY_benchmark['BCRP_reward'] = bcrp_wealth_factors(stock_returns)\n",
    "\n",
    "# # Uniform Constant Rebalanced Portfolio\n",
    "SPY_benchmark['UCRP_reward'] = ucrp_wealth_factors(stock_returns)\n",
    "\n",
    "# # Add reward for other portfolios as well, for example:\n",
    "\n",
    "# w, SPY_benchmark['Balanced_Portfolio'] = Balanced_Portfolio(weight, stock_returns, wM, wC)\n",
    "\n",
    "# # plot\n",
    "iplot(SPY_benchmark.iplot(asFigure=True, kind='scatter',xTitle='Dates',yTitle='Wealth Factor',title='Relative Wealth over time'))"
   ]
  },
  {
   "cell_type": "code",
   "execution_count": 4,
   "metadata": {},
   "outputs": [
    {
     "data": {
      "application/vnd.plotly.v1+json": {
       "config": {
        "linkText": "Export to plot.ly",
        "plotlyServerURL": "https://plot.ly",
        "showLink": false
       },
       "data": [
        {
         "line": {
          "color": "rgba(255, 153, 51, 1.0)",
          "dash": "solid",
          "shape": "linear",
          "width": 1.3
         },
         "mode": "lines",
         "name": "SPY",
         "text": "",
         "type": "scatter",
         "uid": "c6435ba1-d777-496f-b447-467f1d1bcc1b",
         "x": [
          "2008-09-02",
          "2008-09-03",
          "2008-09-04",
          "2008-09-05",
          "2008-09-08",
          "2008-09-09",
          "2008-09-10",
          "2008-09-11",
          "2008-09-12",
          "2008-09-15",
          "2008-09-16",
          "2008-09-17",
          "2008-09-18",
          "2008-09-19",
          "2008-09-22",
          "2008-09-23",
          "2008-09-24",
          "2008-09-25",
          "2008-09-26",
          "2008-09-29",
          "2008-09-30",
          "2008-10-01"
         ],
         "y": [
          1,
          0.9991407448683354,
          0.9690603063182822,
          0.9721072392300956,
          0.9921869505742382,
          0.9627314452514203,
          0.9666380821874353,
          0.9806235536308373,
          0.9851551237940874,
          0.9382764531624027,
          0.9539808837616714,
          0.9110870321829015,
          0.9381199392977586,
          0.9753765983941021,
          0.9532943026259916,
          0.9316056107976014,
          0.9345917187706211,
          0.9492083331213563,
          0.9496798199162846,
          0.8752611432335285,
          0.9114883421111775,
          0.9120383851001195
         ]
        },
        {
         "line": {
          "color": "rgba(55, 128, 191, 1.0)",
          "dash": "solid",
          "shape": "linear",
          "width": 1.3
         },
         "mode": "lines",
         "name": "BCRP_reward",
         "text": "",
         "type": "scatter",
         "uid": "61781daf-8b2b-413f-9935-cd0905166d0d",
         "x": [
          "2008-09-02",
          "2008-09-03",
          "2008-09-04",
          "2008-09-05",
          "2008-09-08",
          "2008-09-09",
          "2008-09-10",
          "2008-09-11",
          "2008-09-12",
          "2008-09-15",
          "2008-09-16",
          "2008-09-17",
          "2008-09-18",
          "2008-09-19",
          "2008-09-22",
          "2008-09-23",
          "2008-09-24",
          "2008-09-25",
          "2008-09-26",
          "2008-09-29",
          "2008-09-30",
          "2008-10-01"
         ],
         "y": [
          1,
          1.018466231821211,
          0.9723002057707033,
          1.01564505805985,
          1.0656577909166978,
          1.0123107992198779,
          1.0105152870194405,
          1.068222516601758,
          1.0559120348210955,
          0.94896115876611,
          1.0448833426429414,
          0.917414593802026,
          1.0335981397580414,
          1.2067193827392917,
          1.0464219612936532,
          1.0402664655146054,
          1.038727655159381,
          1.114644860549581,
          1.2372402215116196,
          1.0515516035933368,
          1.1977429036758451,
          1.2728901305059341
         ]
        },
        {
         "line": {
          "color": "rgba(50, 171, 96, 1.0)",
          "dash": "solid",
          "shape": "linear",
          "width": 1.3
         },
         "mode": "lines",
         "name": "UCRP_reward",
         "text": "",
         "type": "scatter",
         "uid": "1b75c5ac-423f-49d0-a8c4-50642b2c059f",
         "x": [
          "2008-09-02",
          "2008-09-03",
          "2008-09-04",
          "2008-09-05",
          "2008-09-08",
          "2008-09-09",
          "2008-09-10",
          "2008-09-11",
          "2008-09-12",
          "2008-09-15",
          "2008-09-16",
          "2008-09-17",
          "2008-09-18",
          "2008-09-19",
          "2008-09-22",
          "2008-09-23",
          "2008-09-24",
          "2008-09-25",
          "2008-09-26",
          "2008-09-29",
          "2008-09-30",
          "2008-10-01"
         ],
         "y": [
          1,
          0.996782474829613,
          0.9647685242393786,
          0.9647460740966027,
          0.9891067842912171,
          0.964436244601613,
          0.9656429633344774,
          0.9802719301950504,
          0.9826132303916701,
          0.9421075259037298,
          0.9505495895968155,
          0.9028176758504319,
          0.9325838552427678,
          0.9746948762650187,
          0.9388761177993007,
          0.9294741432918503,
          0.9316518591337106,
          0.9531842513342199,
          0.967724557769799,
          0.8875140242975917,
          0.9319884963700736,
          0.9276255685890356
         ]
        },
        {
         "line": {
          "color": "rgba(128, 0, 128, 1.0)",
          "dash": "solid",
          "shape": "linear",
          "width": 1.3
         },
         "mode": "lines",
         "name": "UCRP",
         "text": "",
         "type": "scatter",
         "uid": "8bc01fea-d498-4a8f-a971-11017b800062",
         "x": [
          "2008-09-02",
          "2008-09-03",
          "2008-09-04",
          "2008-09-05",
          "2008-09-08",
          "2008-09-09",
          "2008-09-10",
          "2008-09-11",
          "2008-09-12",
          "2008-09-15",
          "2008-09-16",
          "2008-09-17",
          "2008-09-18",
          "2008-09-19",
          "2008-09-22",
          "2008-09-23",
          "2008-09-24",
          "2008-09-25",
          "2008-09-26",
          "2008-09-29",
          "2008-09-30",
          "2008-10-01"
         ],
         "y": [
          1,
          0.996782474829613,
          0.9647685242393786,
          0.9647460740966027,
          0.9891067842912171,
          0.964436244601613,
          0.9656429633344774,
          0.9802719301950504,
          0.9826132303916701,
          0.9421075259037298,
          0.9505495895968155,
          0.9028176758504319,
          0.9325838552427678,
          0.9746948762650187,
          0.9388761177993007,
          0.9294741432918503,
          0.9316518591337106,
          0.9531842513342199,
          0.967724557769799,
          0.8875140242975917,
          0.9319884963700736,
          0.9276255685890356
         ]
        }
       ],
       "layout": {
        "legend": {
         "bgcolor": "#F5F6F9",
         "font": {
          "color": "#4D5663"
         }
        },
        "paper_bgcolor": "#F5F6F9",
        "plot_bgcolor": "#F5F6F9",
        "title": {
         "font": {
          "color": "#4D5663"
         },
         "text": "Relative Wealth over time"
        },
        "xaxis": {
         "gridcolor": "#E1E5ED",
         "showgrid": true,
         "tickfont": {
          "color": "#4D5663"
         },
         "title": {
          "font": {
           "color": "#4D5663"
          },
          "text": "Dates"
         },
         "zerolinecolor": "#E1E5ED"
        },
        "yaxis": {
         "gridcolor": "#E1E5ED",
         "showgrid": true,
         "tickfont": {
          "color": "#4D5663"
         },
         "title": {
          "font": {
           "color": "#4D5663"
          },
          "text": "Wealth Factor"
         },
         "zerolinecolor": "#E1E5ED"
        }
       }
      },
      "text/html": [
       "<div>\n",
       "        \n",
       "        \n",
       "            <div id=\"e97ea820-7bc2-44f4-ba3e-2cdafe7f5f23\" class=\"plotly-graph-div\" style=\"height:525px; width:100%;\"></div>\n",
       "            <script type=\"text/javascript\">\n",
       "                require([\"plotly\"], function(Plotly) {\n",
       "                    window.PLOTLYENV=window.PLOTLYENV || {};\n",
       "                    window.PLOTLYENV.BASE_URL='https://plot.ly';\n",
       "                    \n",
       "                if (document.getElementById(\"e97ea820-7bc2-44f4-ba3e-2cdafe7f5f23\")) {\n",
       "                    Plotly.newPlot(\n",
       "                        'e97ea820-7bc2-44f4-ba3e-2cdafe7f5f23',\n",
       "                        [{\"line\": {\"color\": \"rgba(255, 153, 51, 1.0)\", \"dash\": \"solid\", \"shape\": \"linear\", \"width\": 1.3}, \"mode\": \"lines\", \"name\": \"SPY\", \"text\": \"\", \"type\": \"scatter\", \"uid\": \"c6435ba1-d777-496f-b447-467f1d1bcc1b\", \"x\": [\"2008-09-02\", \"2008-09-03\", \"2008-09-04\", \"2008-09-05\", \"2008-09-08\", \"2008-09-09\", \"2008-09-10\", \"2008-09-11\", \"2008-09-12\", \"2008-09-15\", \"2008-09-16\", \"2008-09-17\", \"2008-09-18\", \"2008-09-19\", \"2008-09-22\", \"2008-09-23\", \"2008-09-24\", \"2008-09-25\", \"2008-09-26\", \"2008-09-29\", \"2008-09-30\", \"2008-10-01\"], \"y\": [1.0, 0.9991407448683354, 0.9690603063182822, 0.9721072392300956, 0.9921869505742382, 0.9627314452514203, 0.9666380821874353, 0.9806235536308373, 0.9851551237940874, 0.9382764531624027, 0.9539808837616714, 0.9110870321829015, 0.9381199392977586, 0.9753765983941021, 0.9532943026259916, 0.9316056107976014, 0.9345917187706211, 0.9492083331213563, 0.9496798199162846, 0.8752611432335285, 0.9114883421111775, 0.9120383851001195]}, {\"line\": {\"color\": \"rgba(55, 128, 191, 1.0)\", \"dash\": \"solid\", \"shape\": \"linear\", \"width\": 1.3}, \"mode\": \"lines\", \"name\": \"BCRP_reward\", \"text\": \"\", \"type\": \"scatter\", \"uid\": \"61781daf-8b2b-413f-9935-cd0905166d0d\", \"x\": [\"2008-09-02\", \"2008-09-03\", \"2008-09-04\", \"2008-09-05\", \"2008-09-08\", \"2008-09-09\", \"2008-09-10\", \"2008-09-11\", \"2008-09-12\", \"2008-09-15\", \"2008-09-16\", \"2008-09-17\", \"2008-09-18\", \"2008-09-19\", \"2008-09-22\", \"2008-09-23\", \"2008-09-24\", \"2008-09-25\", \"2008-09-26\", \"2008-09-29\", \"2008-09-30\", \"2008-10-01\"], \"y\": [1.0, 1.018466231821211, 0.9723002057707033, 1.01564505805985, 1.0656577909166978, 1.0123107992198779, 1.0105152870194405, 1.068222516601758, 1.0559120348210955, 0.94896115876611, 1.0448833426429414, 0.917414593802026, 1.0335981397580414, 1.2067193827392917, 1.0464219612936532, 1.0402664655146054, 1.038727655159381, 1.114644860549581, 1.2372402215116196, 1.0515516035933368, 1.1977429036758451, 1.2728901305059341]}, {\"line\": {\"color\": \"rgba(50, 171, 96, 1.0)\", \"dash\": \"solid\", \"shape\": \"linear\", \"width\": 1.3}, \"mode\": \"lines\", \"name\": \"UCRP_reward\", \"text\": \"\", \"type\": \"scatter\", \"uid\": \"1b75c5ac-423f-49d0-a8c4-50642b2c059f\", \"x\": [\"2008-09-02\", \"2008-09-03\", \"2008-09-04\", \"2008-09-05\", \"2008-09-08\", \"2008-09-09\", \"2008-09-10\", \"2008-09-11\", \"2008-09-12\", \"2008-09-15\", \"2008-09-16\", \"2008-09-17\", \"2008-09-18\", \"2008-09-19\", \"2008-09-22\", \"2008-09-23\", \"2008-09-24\", \"2008-09-25\", \"2008-09-26\", \"2008-09-29\", \"2008-09-30\", \"2008-10-01\"], \"y\": [1.0, 0.996782474829613, 0.9647685242393786, 0.9647460740966027, 0.9891067842912171, 0.964436244601613, 0.9656429633344774, 0.9802719301950504, 0.9826132303916701, 0.9421075259037298, 0.9505495895968155, 0.9028176758504319, 0.9325838552427678, 0.9746948762650187, 0.9388761177993007, 0.9294741432918503, 0.9316518591337106, 0.9531842513342199, 0.967724557769799, 0.8875140242975917, 0.9319884963700736, 0.9276255685890356]}, {\"line\": {\"color\": \"rgba(128, 0, 128, 1.0)\", \"dash\": \"solid\", \"shape\": \"linear\", \"width\": 1.3}, \"mode\": \"lines\", \"name\": \"UCRP\", \"text\": \"\", \"type\": \"scatter\", \"uid\": \"8bc01fea-d498-4a8f-a971-11017b800062\", \"x\": [\"2008-09-02\", \"2008-09-03\", \"2008-09-04\", \"2008-09-05\", \"2008-09-08\", \"2008-09-09\", \"2008-09-10\", \"2008-09-11\", \"2008-09-12\", \"2008-09-15\", \"2008-09-16\", \"2008-09-17\", \"2008-09-18\", \"2008-09-19\", \"2008-09-22\", \"2008-09-23\", \"2008-09-24\", \"2008-09-25\", \"2008-09-26\", \"2008-09-29\", \"2008-09-30\", \"2008-10-01\"], \"y\": [1.0, 0.996782474829613, 0.9647685242393786, 0.9647460740966027, 0.9891067842912171, 0.964436244601613, 0.9656429633344774, 0.9802719301950504, 0.9826132303916701, 0.9421075259037298, 0.9505495895968155, 0.9028176758504319, 0.9325838552427678, 0.9746948762650187, 0.9388761177993007, 0.9294741432918503, 0.9316518591337106, 0.9531842513342199, 0.967724557769799, 0.8875140242975917, 0.9319884963700736, 0.9276255685890356]}],\n",
       "                        {\"legend\": {\"bgcolor\": \"#F5F6F9\", \"font\": {\"color\": \"#4D5663\"}}, \"paper_bgcolor\": \"#F5F6F9\", \"plot_bgcolor\": \"#F5F6F9\", \"title\": {\"font\": {\"color\": \"#4D5663\"}, \"text\": \"Relative Wealth over time\"}, \"xaxis\": {\"gridcolor\": \"#E1E5ED\", \"showgrid\": true, \"tickfont\": {\"color\": \"#4D5663\"}, \"title\": {\"font\": {\"color\": \"#4D5663\"}, \"text\": \"Dates\"}, \"zerolinecolor\": \"#E1E5ED\"}, \"yaxis\": {\"gridcolor\": \"#E1E5ED\", \"showgrid\": true, \"tickfont\": {\"color\": \"#4D5663\"}, \"title\": {\"font\": {\"color\": \"#4D5663\"}, \"text\": \"Wealth Factor\"}, \"zerolinecolor\": \"#E1E5ED\"}},\n",
       "                        {\"showLink\": false, \"linkText\": \"Export to plot.ly\", \"plotlyServerURL\": \"https://plot.ly\", \"responsive\": true}\n",
       "                    ).then(function(){\n",
       "                            \n",
       "var gd = document.getElementById('e97ea820-7bc2-44f4-ba3e-2cdafe7f5f23');\n",
       "var x = new MutationObserver(function (mutations, observer) {{\n",
       "        var display = window.getComputedStyle(gd).display;\n",
       "        if (!display || display === 'none') {{\n",
       "            console.log([gd, 'removed!']);\n",
       "            Plotly.purge(gd);\n",
       "            observer.disconnect();\n",
       "        }}\n",
       "}});\n",
       "\n",
       "// Listen for the removal of the full notebook cells\n",
       "var notebookContainer = gd.closest('#notebook-container');\n",
       "if (notebookContainer) {{\n",
       "    x.observe(notebookContainer, {childList: true});\n",
       "}}\n",
       "\n",
       "// Listen for the clearing of the current output cell\n",
       "var outputEl = gd.closest('.output');\n",
       "if (outputEl) {{\n",
       "    x.observe(outputEl, {childList: true});\n",
       "}}\n",
       "\n",
       "                        })\n",
       "                };\n",
       "                });\n",
       "            </script>\n",
       "        </div>"
      ]
     },
     "metadata": {},
     "output_type": "display_data"
    }
   ],
   "source": [
    "W = np.repeat(1.0/16, 16)\n",
    "portfolio = np.tile(W, (21, 1))\n",
    "benchmark_portfolio(portfolio, 'UCRP', SPY_benchmark, stock_prices = us_stock_prices)"
   ]
  },
  {
   "cell_type": "code",
   "execution_count": null,
   "metadata": {},
   "outputs": [],
   "source": []
  }
 ],
 "metadata": {
  "kernelspec": {
   "display_name": "Python 3",
   "language": "python",
   "name": "python3"
  },
  "language_info": {
   "codemirror_mode": {
    "name": "ipython",
    "version": 3
   },
   "file_extension": ".py",
   "mimetype": "text/x-python",
   "name": "python",
   "nbconvert_exporter": "python",
   "pygments_lexer": "ipython3",
   "version": "3.7.3"
  }
 },
 "nbformat": 4,
 "nbformat_minor": 2
}
