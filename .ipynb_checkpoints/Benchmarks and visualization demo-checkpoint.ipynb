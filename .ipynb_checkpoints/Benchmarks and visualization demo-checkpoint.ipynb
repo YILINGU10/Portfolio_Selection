{
 "cells": [
  {
   "cell_type": "markdown",
   "metadata": {},
   "source": [
    "### Benchmarks"
   ]
  },
  {
   "cell_type": "code",
   "execution_count": null,
   "metadata": {},
   "outputs": [],
   "source": [
    "def UniformConstantRebalancedPortfolio_general(stock_returns):\n",
    "    asset_returns = stock_returns.as_matrix()\n",
    "    T, m = asset_returns.shape\n",
    "    T = T + 1\n",
    "\n",
    "    #ratio for each asset\n",
    "    r = 1.0/m\n",
    "\n",
    "    # Set thehttp://localhost:8890/notebooks/Untitled.ipynb?kernel_name=python3#Benchmarks uniform constant portfolio weighting\n",
    "    W = np.repeat(r,m)\n",
    "    \n",
    "    # Calculate the wealth factors array over time\n",
    "    wealth_factors = np.ones(T)\n",
    "    for i in range(1,T):\n",
    "        wealth_factors[i] = wealth_factors[i-1]*np.dot(W, asset_returns[i-1,:])\n",
    "            \n",
    "    return wealth_factors"
   ]
  },
  {
   "cell_type": "code",
   "execution_count": null,
   "metadata": {},
   "outputs": [],
   "source": [
    "def BCRP_cvx(stock_returns):\n",
    "    asset_returns = stock_returns.as_matrix()\n",
    "    T, m = asset_returns.shape\n",
    "    T = T + 1\n",
    "\n",
    "    w = cvx.Variable(m)\n",
    "    S = 0\n",
    "    for i in range(T-1):\n",
    "        S += cvx.log(asset_returns[i,:]*w)\n",
    "    objective = cvx.Maximize(S)\n",
    "    constraints = [cvx.sum(w) == 1, w >= 0]\n",
    "\n",
    "    prob = cvx.Problem(objective, constraints)\n",
    "    prob.solve()  # Returns the optimal value.\n",
    "\n",
    "    # get the optimal constant weight vector\n",
    "    w_nom = w.value\n",
    "    print(w_nom)\n",
    "    \n",
    "    #calculate the development of the CRP\n",
    "    wealth_factors = np.ones(T)\n",
    "    for i in range(1,T):\n",
    "        wealth_factors[i] = wealth_factors[i-1]*np.dot(w_nom, asset_returns[i-1,:])\n",
    "    \n",
    "    #Weights = pd.DataFrame(data=w_nom, columns=list(stock_returns.columns.values))  \n",
    "    #print(len(wealth_factors))\n",
    "    return w_nom, wealth_factors"
   ]
  },
  {
   "cell_type": "markdown",
   "metadata": {},
   "source": [
    "### Homework: calculate the development of CRP for bandit & risk-aware portfolio\n",
    "- Change the return to log(return) when optimizing\n",
    "- Play with the weight $\\lambda$: $w_t^* = \\lambda w_t^M+(1-\\lambda)w_t^C$"
   ]
  },
  {
   "cell_type": "code",
   "execution_count": null,
   "metadata": {},
   "outputs": [],
   "source": [
    "def Balanced_Portfolio(weight,stock_returns,wM,wC):\n",
    "    asset_returns = stock_returns.as_matrix()\n",
    "    T, m = asset_returns.shape\n",
    "    T = T + 1\n",
    "    \n",
    "    w = weight*wM + (1-weight)*wC\n",
    "    wealth_factors = np.ones(T)\n",
    "    for i in range(1,T):\n",
    "        wealth_factors[i] = wealth_factors[i-1]*np.dot(w, asset_returns[i-1,:])\n",
    "        \n",
    "    return w, wealth_factors"
   ]
  },
  {
   "cell_type": "markdown",
   "metadata": {},
   "source": [
    "### Visualization demo\n",
    "After having the output $\\mathtt{wealth\\_factors}$ (cumulative reward) from the algorithms above, we do the visualization as follows."
   ]
  },
  {
   "cell_type": "code",
   "execution_count": null,
   "metadata": {},
   "outputs": [],
   "source": [
    "\"\"\"\n",
    "us_stock_prices = pd.read_csv('./00_Data/us_stocks_latest.csv', header=0, index_col = 0)\n",
    "us_stock_prices.index = pd.to_datetime(us_stock_prices.index)\n",
    "\n",
    "#Process Stock Data\n",
    "stock_prices_norm, stock_returns = process_stock_data(us_stock_prices)\n",
    "\"\"\"\n",
    "\n",
    "# initialize with SPY\n",
    "SPY_benchmark = stock_prices_norm.drop(us_stocks[1:], axis=1)\n",
    "\n",
    "# Solves the convex optimization problem of the Best constant rebalanced portfolio in hindsight\n",
    "BCRP, SPY_benchmark['BCRP_reward'] = BCRP_cvx(stock_returns)\n",
    "\n",
    "# Uniform Constant Rebalanced Portfolio\n",
    "SPY_benchmark['UCRP_reward'] = UniformConstantRebalancedPortfolio_general(stock_returns)\n",
    "\n",
    "# Add reward for other portfolios as well, for example:\n",
    "\n",
    "w, SPY_benchmark['Balanced_Portfolio'] = Balanced_Portfolio(weight,stock_returns,wM,wC)\n",
    "\n",
    "# plot\n",
    "iplot(SPY_benchmark.iplot(asFigure=True, kind='scatter',xTitle='Dates',yTitle='Wealth Factor',title='Relative Wealth over time'))"
   ]
  }
 ],
 "metadata": {
  "kernelspec": {
   "display_name": "Python 3",
   "language": "python",
   "name": "python3"
  },
  "language_info": {
   "codemirror_mode": {
    "name": "ipython",
    "version": 3
   },
   "file_extension": ".py",
   "mimetype": "text/x-python",
   "name": "python",
   "nbconvert_exporter": "python",
   "pygments_lexer": "ipython3",
   "version": "3.7.3"
  }
 },
 "nbformat": 4,
 "nbformat_minor": 2
}
